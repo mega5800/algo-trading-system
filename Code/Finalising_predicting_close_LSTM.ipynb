{
 "cells": [
  {
   "cell_type": "markdown",
   "metadata": {
    "id": "pu9t476KSFbt"
   },
   "source": [
    "# Finalising Stock Prices with LSTM (5 features)"
   ]
  },
  {
   "cell_type": "markdown",
   "metadata": {},
   "source": [
    "### Importing Relevent Libraries"
   ]
  },
  {
   "cell_type": "code",
   "execution_count": 26,
   "metadata": {
    "cellView": "form",
    "colab": {
     "base_uri": "https://localhost:8080/"
    },
    "id": "z68p_q4eISQP",
    "outputId": "02988281-22ac-409c-a1e9-dc5caa30fd84"
   },
   "outputs": [],
   "source": [
    "import pandas as pd\n",
    "from datetime import datetime"
   ]
  },
  {
   "cell_type": "markdown",
   "metadata": {},
   "source": [
    "### Const Values"
   ]
  },
  {
   "cell_type": "code",
   "execution_count": 27,
   "metadata": {},
   "outputs": [],
   "source": [
    "DATE_COLUMN_NAME = \"Date\"\n",
    "TIMESTAMP = f\"{datetime.now().month:02}.{datetime.now().year}\""
   ]
  },
  {
   "cell_type": "markdown",
   "metadata": {},
   "source": [
    "### Code"
   ]
  },
  {
   "cell_type": "code",
   "execution_count": 28,
   "metadata": {},
   "outputs": [],
   "source": [
    "tsla_df_paths_list = [\n",
    "    \"../Data/TESLA data/4. LSTM data/processed_normalised_PAPER_TSLA_data_LSTM.csv\",\n",
    "    \"../Data/TESLA data/4. LSTM data/processed_normalised_PAPER_TSLA_data_probabilities_LSTM.csv\"\n",
    "]\n",
    "\n",
    "final_tsla_df_paths_list = [\n",
    "    f\"../Data/TESLA data/5. RL training data/TESLA RL training data - 1 Sentiment {TIMESTAMP}.csv\",\n",
    "    f\"../Data/TESLA data/5. RL training data/TESLA RL training data - 3 Sentiment {TIMESTAMP}.csv\"\n",
    "]"
   ]
  },
  {
   "cell_type": "code",
   "execution_count": 29,
   "metadata": {},
   "outputs": [],
   "source": [
    "for i in range(len(tsla_df_paths_list)):\n",
    "    current_df_path = tsla_df_paths_list[i]\n",
    "    final_df_path   = final_tsla_df_paths_list[i]\n",
    "\n",
    "    current_tsla_df = pd.read_csv(current_df_path)\n",
    "\n",
    "    current_tsla_df[DATE_COLUMN_NAME] = pd.to_datetime(current_tsla_df[DATE_COLUMN_NAME])\n",
    "    current_tsla_df = current_tsla_df[current_tsla_df[DATE_COLUMN_NAME] >= '2014-01-01']\n",
    "\n",
    "    current_tsla_df.to_csv(final_df_path)"
   ]
  }
 ],
 "metadata": {
  "accelerator": "GPU",
  "colab": {
   "include_colab_link": true,
   "name": "Demo - Predicting Stock Prices with LSTM",
   "provenance": [],
   "toc_visible": true
  },
  "kernelspec": {
   "display_name": "Python 3",
   "language": "python",
   "name": "python3"
  },
  "language_info": {
   "codemirror_mode": {
    "name": "ipython",
    "version": 3
   },
   "file_extension": ".py",
   "mimetype": "text/x-python",
   "name": "python",
   "nbconvert_exporter": "python",
   "pygments_lexer": "ipython3",
   "version": "3.10.12"
  }
 },
 "nbformat": 4,
 "nbformat_minor": 4
}
