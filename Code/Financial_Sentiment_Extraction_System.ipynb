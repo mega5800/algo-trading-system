{
 "cells": [
  {
   "cell_type": "markdown",
   "metadata": {},
   "source": [
    "# News Processing and Financial Sentiment Extraction Notebook"
   ]
  },
  {
   "cell_type": "markdown",
   "metadata": {},
   "source": [
    "In this notebook, we would like to clean the raw news CSV file and use the processed news data for financial sentiment extraction using the FinBert model."
   ]
  },
  {
   "cell_type": "markdown",
   "metadata": {},
   "source": [
    "## Tesla Data Download from Yahoo Finance "
   ]
  },
  {
   "cell_type": "code",
   "execution_count": 1,
   "metadata": {},
   "outputs": [
    {
     "name": "stdout",
     "output_type": "stream",
     "text": [
      "Defaulting to user installation because normal site-packages is not writeable\n",
      "Requirement already satisfied: yfinance in /home/shartil/.local/lib/python3.10/site-packages (0.2.48)\n",
      "Requirement already satisfied: pytz>=2022.5 in /home/shartil/.local/lib/python3.10/site-packages (from yfinance) (2024.2)\n",
      "Requirement already satisfied: html5lib>=1.1 in /home/shartil/.local/lib/python3.10/site-packages (from yfinance) (1.1)\n",
      "Requirement already satisfied: pandas>=1.3.0 in /home/shartil/.local/lib/python3.10/site-packages (from yfinance) (2.2.2)\n",
      "Requirement already satisfied: peewee>=3.16.2 in /home/shartil/.local/lib/python3.10/site-packages (from yfinance) (3.17.7)\n",
      "Requirement already satisfied: frozendict>=2.3.4 in /home/shartil/.local/lib/python3.10/site-packages (from yfinance) (2.4.6)\n",
      "Requirement already satisfied: numpy>=1.16.5 in /home/shartil/.local/lib/python3.10/site-packages (from yfinance) (1.26.4)\n",
      "Requirement already satisfied: platformdirs>=2.0.0 in /home/shartil/.local/lib/python3.10/site-packages (from yfinance) (4.2.2)\n",
      "Requirement already satisfied: requests>=2.31 in /home/shartil/.local/lib/python3.10/site-packages (from yfinance) (2.32.3)\n",
      "Requirement already satisfied: lxml>=4.9.1 in /home/shartil/.local/lib/python3.10/site-packages (from yfinance) (5.3.0)\n",
      "Requirement already satisfied: beautifulsoup4>=4.11.1 in /home/shartil/.local/lib/python3.10/site-packages (from yfinance) (4.12.3)\n",
      "Requirement already satisfied: multitasking>=0.0.7 in /home/shartil/.local/lib/python3.10/site-packages (from yfinance) (0.0.11)\n",
      "Requirement already satisfied: soupsieve>1.2 in /home/shartil/.local/lib/python3.10/site-packages (from beautifulsoup4>=4.11.1->yfinance) (2.6)\n",
      "Requirement already satisfied: webencodings in /home/shartil/.local/lib/python3.10/site-packages (from html5lib>=1.1->yfinance) (0.5.1)\n",
      "Requirement already satisfied: six>=1.9 in /usr/lib/python3/dist-packages (from html5lib>=1.1->yfinance) (1.16.0)\n",
      "Requirement already satisfied: tzdata>=2022.7 in /home/shartil/.local/lib/python3.10/site-packages (from pandas>=1.3.0->yfinance) (2024.1)\n",
      "Requirement already satisfied: python-dateutil>=2.8.2 in /home/shartil/.local/lib/python3.10/site-packages (from pandas>=1.3.0->yfinance) (2.9.0.post0)\n",
      "Requirement already satisfied: idna<4,>=2.5 in /usr/lib/python3/dist-packages (from requests>=2.31->yfinance) (3.3)\n",
      "Requirement already satisfied: charset-normalizer<4,>=2 in /home/shartil/.local/lib/python3.10/site-packages (from requests>=2.31->yfinance) (3.4.0)\n",
      "Requirement already satisfied: certifi>=2017.4.17 in /usr/lib/python3/dist-packages (from requests>=2.31->yfinance) (2020.6.20)\n",
      "Requirement already satisfied: urllib3<3,>=1.21.1 in /usr/lib/python3/dist-packages (from requests>=2.31->yfinance) (1.26.5)\n",
      "Note: you may need to restart the kernel to use updated packages.\n"
     ]
    }
   ],
   "source": [
    "%pip install yfinance"
   ]
  },
  {
   "cell_type": "markdown",
   "metadata": {},
   "source": [
    "### Libraries"
   ]
  },
  {
   "cell_type": "code",
   "execution_count": 2,
   "metadata": {},
   "outputs": [],
   "source": [
    "import pandas as pd\n",
    "import yfinance as yf"
   ]
  },
  {
   "cell_type": "markdown",
   "metadata": {},
   "source": [
    "### Const Values"
   ]
  },
  {
   "cell_type": "code",
   "execution_count": 3,
   "metadata": {},
   "outputs": [],
   "source": [
    "DATE_COLUMN_NAME = \"Date\""
   ]
  },
  {
   "cell_type": "markdown",
   "metadata": {},
   "source": [
    "### Methods"
   ]
  },
  {
   "cell_type": "code",
   "execution_count": 4,
   "metadata": {},
   "outputs": [],
   "source": [
    "def save_df_in_path(df, path):\n",
    "    df.to_csv(path)"
   ]
  },
  {
   "cell_type": "markdown",
   "metadata": {},
   "source": [
    "### Code"
   ]
  },
  {
   "cell_type": "code",
   "execution_count": 5,
   "metadata": {},
   "outputs": [
    {
     "name": "stderr",
     "output_type": "stream",
     "text": [
      "[*********************100%***********************]  1 of 1 completed\n"
     ]
    },
    {
     "data": {
      "text/html": [
       "<div>\n",
       "<style scoped>\n",
       "    .dataframe tbody tr th:only-of-type {\n",
       "        vertical-align: middle;\n",
       "    }\n",
       "\n",
       "    .dataframe tbody tr th {\n",
       "        vertical-align: top;\n",
       "    }\n",
       "\n",
       "    .dataframe thead tr th {\n",
       "        text-align: left;\n",
       "    }\n",
       "\n",
       "    .dataframe thead tr:last-of-type th {\n",
       "        text-align: right;\n",
       "    }\n",
       "</style>\n",
       "<table border=\"1\" class=\"dataframe\">\n",
       "  <thead>\n",
       "    <tr>\n",
       "      <th>Price</th>\n",
       "      <th>Adj Close</th>\n",
       "      <th>Close</th>\n",
       "      <th>High</th>\n",
       "      <th>Low</th>\n",
       "      <th>Open</th>\n",
       "      <th>Volume</th>\n",
       "    </tr>\n",
       "    <tr>\n",
       "      <th>Ticker</th>\n",
       "      <th>TSLA</th>\n",
       "      <th>TSLA</th>\n",
       "      <th>TSLA</th>\n",
       "      <th>TSLA</th>\n",
       "      <th>TSLA</th>\n",
       "      <th>TSLA</th>\n",
       "    </tr>\n",
       "    <tr>\n",
       "      <th>Date</th>\n",
       "      <th></th>\n",
       "      <th></th>\n",
       "      <th></th>\n",
       "      <th></th>\n",
       "      <th></th>\n",
       "      <th></th>\n",
       "    </tr>\n",
       "  </thead>\n",
       "  <tbody>\n",
       "    <tr>\n",
       "      <th>2014-01-02 00:00:00+00:00</th>\n",
       "      <td>10.006667</td>\n",
       "      <td>10.006667</td>\n",
       "      <td>10.165333</td>\n",
       "      <td>9.770000</td>\n",
       "      <td>9.986667</td>\n",
       "      <td>92826000</td>\n",
       "    </tr>\n",
       "    <tr>\n",
       "      <th>2014-01-03 00:00:00+00:00</th>\n",
       "      <td>9.970667</td>\n",
       "      <td>9.970667</td>\n",
       "      <td>10.146000</td>\n",
       "      <td>9.906667</td>\n",
       "      <td>10.000000</td>\n",
       "      <td>70425000</td>\n",
       "    </tr>\n",
       "    <tr>\n",
       "      <th>2014-01-06 00:00:00+00:00</th>\n",
       "      <td>9.800000</td>\n",
       "      <td>9.800000</td>\n",
       "      <td>10.026667</td>\n",
       "      <td>9.682667</td>\n",
       "      <td>10.000000</td>\n",
       "      <td>80416500</td>\n",
       "    </tr>\n",
       "    <tr>\n",
       "      <th>2014-01-07 00:00:00+00:00</th>\n",
       "      <td>9.957333</td>\n",
       "      <td>9.957333</td>\n",
       "      <td>10.026667</td>\n",
       "      <td>9.683333</td>\n",
       "      <td>9.841333</td>\n",
       "      <td>75511500</td>\n",
       "    </tr>\n",
       "    <tr>\n",
       "      <th>2014-01-08 00:00:00+00:00</th>\n",
       "      <td>10.085333</td>\n",
       "      <td>10.085333</td>\n",
       "      <td>10.246667</td>\n",
       "      <td>9.917333</td>\n",
       "      <td>9.923333</td>\n",
       "      <td>92448000</td>\n",
       "    </tr>\n",
       "  </tbody>\n",
       "</table>\n",
       "</div>"
      ],
      "text/plain": [
       "Price                      Adj Close      Close       High       Low  \\\n",
       "Ticker                          TSLA       TSLA       TSLA      TSLA   \n",
       "Date                                                                   \n",
       "2014-01-02 00:00:00+00:00  10.006667  10.006667  10.165333  9.770000   \n",
       "2014-01-03 00:00:00+00:00   9.970667   9.970667  10.146000  9.906667   \n",
       "2014-01-06 00:00:00+00:00   9.800000   9.800000  10.026667  9.682667   \n",
       "2014-01-07 00:00:00+00:00   9.957333   9.957333  10.026667  9.683333   \n",
       "2014-01-08 00:00:00+00:00  10.085333  10.085333  10.246667  9.917333   \n",
       "\n",
       "Price                           Open    Volume  \n",
       "Ticker                          TSLA      TSLA  \n",
       "Date                                            \n",
       "2014-01-02 00:00:00+00:00   9.986667  92826000  \n",
       "2014-01-03 00:00:00+00:00  10.000000  70425000  \n",
       "2014-01-06 00:00:00+00:00  10.000000  80416500  \n",
       "2014-01-07 00:00:00+00:00   9.841333  75511500  \n",
       "2014-01-08 00:00:00+00:00   9.923333  92448000  "
      ]
     },
     "execution_count": 5,
     "metadata": {},
     "output_type": "execute_result"
    }
   ],
   "source": [
    "ticker = \"TSLA\"\n",
    "data_csv_file_path = f\"../Data/PAPER_{ticker}_data.csv\"\n",
    "\n",
    "data_df = yf.download(\n",
    "    ticker, \n",
    "    start=\"2014-01-01\", \n",
    "    end=\"2020-01-01\"\n",
    ")\n",
    "\n",
    "data_df.head()"
   ]
  },
  {
   "cell_type": "code",
   "execution_count": 6,
   "metadata": {},
   "outputs": [
    {
     "data": {
      "text/html": [
       "<div>\n",
       "<style scoped>\n",
       "    .dataframe tbody tr th:only-of-type {\n",
       "        vertical-align: middle;\n",
       "    }\n",
       "\n",
       "    .dataframe tbody tr th {\n",
       "        vertical-align: top;\n",
       "    }\n",
       "\n",
       "    .dataframe thead th {\n",
       "        text-align: right;\n",
       "    }\n",
       "</style>\n",
       "<table border=\"1\" class=\"dataframe\">\n",
       "  <thead>\n",
       "    <tr style=\"text-align: right;\">\n",
       "      <th>Price</th>\n",
       "      <th>Adj Close</th>\n",
       "      <th>Close</th>\n",
       "      <th>High</th>\n",
       "      <th>Low</th>\n",
       "      <th>Open</th>\n",
       "      <th>Volume</th>\n",
       "    </tr>\n",
       "    <tr>\n",
       "      <th>Date</th>\n",
       "      <th></th>\n",
       "      <th></th>\n",
       "      <th></th>\n",
       "      <th></th>\n",
       "      <th></th>\n",
       "      <th></th>\n",
       "    </tr>\n",
       "  </thead>\n",
       "  <tbody>\n",
       "    <tr>\n",
       "      <th>2014-01-02 00:00:00+00:00</th>\n",
       "      <td>10.006667</td>\n",
       "      <td>10.006667</td>\n",
       "      <td>10.165333</td>\n",
       "      <td>9.770000</td>\n",
       "      <td>9.986667</td>\n",
       "      <td>92826000</td>\n",
       "    </tr>\n",
       "    <tr>\n",
       "      <th>2014-01-03 00:00:00+00:00</th>\n",
       "      <td>9.970667</td>\n",
       "      <td>9.970667</td>\n",
       "      <td>10.146000</td>\n",
       "      <td>9.906667</td>\n",
       "      <td>10.000000</td>\n",
       "      <td>70425000</td>\n",
       "    </tr>\n",
       "    <tr>\n",
       "      <th>2014-01-06 00:00:00+00:00</th>\n",
       "      <td>9.800000</td>\n",
       "      <td>9.800000</td>\n",
       "      <td>10.026667</td>\n",
       "      <td>9.682667</td>\n",
       "      <td>10.000000</td>\n",
       "      <td>80416500</td>\n",
       "    </tr>\n",
       "    <tr>\n",
       "      <th>2014-01-07 00:00:00+00:00</th>\n",
       "      <td>9.957333</td>\n",
       "      <td>9.957333</td>\n",
       "      <td>10.026667</td>\n",
       "      <td>9.683333</td>\n",
       "      <td>9.841333</td>\n",
       "      <td>75511500</td>\n",
       "    </tr>\n",
       "    <tr>\n",
       "      <th>2014-01-08 00:00:00+00:00</th>\n",
       "      <td>10.085333</td>\n",
       "      <td>10.085333</td>\n",
       "      <td>10.246667</td>\n",
       "      <td>9.917333</td>\n",
       "      <td>9.923333</td>\n",
       "      <td>92448000</td>\n",
       "    </tr>\n",
       "  </tbody>\n",
       "</table>\n",
       "</div>"
      ],
      "text/plain": [
       "Price                      Adj Close      Close       High       Low  \\\n",
       "Date                                                                   \n",
       "2014-01-02 00:00:00+00:00  10.006667  10.006667  10.165333  9.770000   \n",
       "2014-01-03 00:00:00+00:00   9.970667   9.970667  10.146000  9.906667   \n",
       "2014-01-06 00:00:00+00:00   9.800000   9.800000  10.026667  9.682667   \n",
       "2014-01-07 00:00:00+00:00   9.957333   9.957333  10.026667  9.683333   \n",
       "2014-01-08 00:00:00+00:00  10.085333  10.085333  10.246667  9.917333   \n",
       "\n",
       "Price                           Open    Volume  \n",
       "Date                                            \n",
       "2014-01-02 00:00:00+00:00   9.986667  92826000  \n",
       "2014-01-03 00:00:00+00:00  10.000000  70425000  \n",
       "2014-01-06 00:00:00+00:00  10.000000  80416500  \n",
       "2014-01-07 00:00:00+00:00   9.841333  75511500  \n",
       "2014-01-08 00:00:00+00:00   9.923333  92448000  "
      ]
     },
     "execution_count": 6,
     "metadata": {},
     "output_type": "execute_result"
    }
   ],
   "source": [
    "data_df.columns = data_df.columns.get_level_values(0)\n",
    "data_df.head()"
   ]
  },
  {
   "cell_type": "code",
   "execution_count": 7,
   "metadata": {},
   "outputs": [],
   "source": [
    "save_df_in_path(data_df, data_csv_file_path)"
   ]
  },
  {
   "cell_type": "code",
   "execution_count": 8,
   "metadata": {},
   "outputs": [
    {
     "data": {
      "text/html": [
       "<div>\n",
       "<style scoped>\n",
       "    .dataframe tbody tr th:only-of-type {\n",
       "        vertical-align: middle;\n",
       "    }\n",
       "\n",
       "    .dataframe tbody tr th {\n",
       "        vertical-align: top;\n",
       "    }\n",
       "\n",
       "    .dataframe thead th {\n",
       "        text-align: right;\n",
       "    }\n",
       "</style>\n",
       "<table border=\"1\" class=\"dataframe\">\n",
       "  <thead>\n",
       "    <tr style=\"text-align: right;\">\n",
       "      <th></th>\n",
       "      <th>Date</th>\n",
       "      <th>Adj Close</th>\n",
       "      <th>Close</th>\n",
       "      <th>High</th>\n",
       "      <th>Low</th>\n",
       "      <th>Open</th>\n",
       "      <th>Volume</th>\n",
       "    </tr>\n",
       "  </thead>\n",
       "  <tbody>\n",
       "    <tr>\n",
       "      <th>0</th>\n",
       "      <td>2014-01-02 00:00:00+00:00</td>\n",
       "      <td>10.006667</td>\n",
       "      <td>10.006667</td>\n",
       "      <td>10.165333</td>\n",
       "      <td>9.770000</td>\n",
       "      <td>9.986667</td>\n",
       "      <td>92826000</td>\n",
       "    </tr>\n",
       "    <tr>\n",
       "      <th>1</th>\n",
       "      <td>2014-01-03 00:00:00+00:00</td>\n",
       "      <td>9.970667</td>\n",
       "      <td>9.970667</td>\n",
       "      <td>10.146000</td>\n",
       "      <td>9.906667</td>\n",
       "      <td>10.000000</td>\n",
       "      <td>70425000</td>\n",
       "    </tr>\n",
       "    <tr>\n",
       "      <th>2</th>\n",
       "      <td>2014-01-06 00:00:00+00:00</td>\n",
       "      <td>9.800000</td>\n",
       "      <td>9.800000</td>\n",
       "      <td>10.026667</td>\n",
       "      <td>9.682667</td>\n",
       "      <td>10.000000</td>\n",
       "      <td>80416500</td>\n",
       "    </tr>\n",
       "    <tr>\n",
       "      <th>3</th>\n",
       "      <td>2014-01-07 00:00:00+00:00</td>\n",
       "      <td>9.957333</td>\n",
       "      <td>9.957333</td>\n",
       "      <td>10.026667</td>\n",
       "      <td>9.683333</td>\n",
       "      <td>9.841333</td>\n",
       "      <td>75511500</td>\n",
       "    </tr>\n",
       "    <tr>\n",
       "      <th>4</th>\n",
       "      <td>2014-01-08 00:00:00+00:00</td>\n",
       "      <td>10.085333</td>\n",
       "      <td>10.085333</td>\n",
       "      <td>10.246667</td>\n",
       "      <td>9.917333</td>\n",
       "      <td>9.923333</td>\n",
       "      <td>92448000</td>\n",
       "    </tr>\n",
       "  </tbody>\n",
       "</table>\n",
       "</div>"
      ],
      "text/plain": [
       "                        Date  Adj Close      Close       High       Low  \\\n",
       "0  2014-01-02 00:00:00+00:00  10.006667  10.006667  10.165333  9.770000   \n",
       "1  2014-01-03 00:00:00+00:00   9.970667   9.970667  10.146000  9.906667   \n",
       "2  2014-01-06 00:00:00+00:00   9.800000   9.800000  10.026667  9.682667   \n",
       "3  2014-01-07 00:00:00+00:00   9.957333   9.957333  10.026667  9.683333   \n",
       "4  2014-01-08 00:00:00+00:00  10.085333  10.085333  10.246667  9.917333   \n",
       "\n",
       "        Open    Volume  \n",
       "0   9.986667  92826000  \n",
       "1  10.000000  70425000  \n",
       "2  10.000000  80416500  \n",
       "3   9.841333  75511500  \n",
       "4   9.923333  92448000  "
      ]
     },
     "execution_count": 8,
     "metadata": {},
     "output_type": "execute_result"
    }
   ],
   "source": [
    "data_df = pd.read_csv(data_csv_file_path)\n",
    "data_df.head()"
   ]
  },
  {
   "cell_type": "code",
   "execution_count": 9,
   "metadata": {},
   "outputs": [
    {
     "data": {
      "text/html": [
       "<div>\n",
       "<style scoped>\n",
       "    .dataframe tbody tr th:only-of-type {\n",
       "        vertical-align: middle;\n",
       "    }\n",
       "\n",
       "    .dataframe tbody tr th {\n",
       "        vertical-align: top;\n",
       "    }\n",
       "\n",
       "    .dataframe thead th {\n",
       "        text-align: right;\n",
       "    }\n",
       "</style>\n",
       "<table border=\"1\" class=\"dataframe\">\n",
       "  <thead>\n",
       "    <tr style=\"text-align: right;\">\n",
       "      <th></th>\n",
       "      <th>Date</th>\n",
       "      <th>Adj Close</th>\n",
       "      <th>Close</th>\n",
       "      <th>High</th>\n",
       "      <th>Low</th>\n",
       "      <th>Open</th>\n",
       "      <th>Volume</th>\n",
       "    </tr>\n",
       "  </thead>\n",
       "  <tbody>\n",
       "    <tr>\n",
       "      <th>0</th>\n",
       "      <td>2014-01-02</td>\n",
       "      <td>10.006667</td>\n",
       "      <td>10.006667</td>\n",
       "      <td>10.165333</td>\n",
       "      <td>9.770000</td>\n",
       "      <td>9.986667</td>\n",
       "      <td>92826000</td>\n",
       "    </tr>\n",
       "    <tr>\n",
       "      <th>1</th>\n",
       "      <td>2014-01-03</td>\n",
       "      <td>9.970667</td>\n",
       "      <td>9.970667</td>\n",
       "      <td>10.146000</td>\n",
       "      <td>9.906667</td>\n",
       "      <td>10.000000</td>\n",
       "      <td>70425000</td>\n",
       "    </tr>\n",
       "    <tr>\n",
       "      <th>2</th>\n",
       "      <td>2014-01-06</td>\n",
       "      <td>9.800000</td>\n",
       "      <td>9.800000</td>\n",
       "      <td>10.026667</td>\n",
       "      <td>9.682667</td>\n",
       "      <td>10.000000</td>\n",
       "      <td>80416500</td>\n",
       "    </tr>\n",
       "    <tr>\n",
       "      <th>3</th>\n",
       "      <td>2014-01-07</td>\n",
       "      <td>9.957333</td>\n",
       "      <td>9.957333</td>\n",
       "      <td>10.026667</td>\n",
       "      <td>9.683333</td>\n",
       "      <td>9.841333</td>\n",
       "      <td>75511500</td>\n",
       "    </tr>\n",
       "    <tr>\n",
       "      <th>4</th>\n",
       "      <td>2014-01-08</td>\n",
       "      <td>10.085333</td>\n",
       "      <td>10.085333</td>\n",
       "      <td>10.246667</td>\n",
       "      <td>9.917333</td>\n",
       "      <td>9.923333</td>\n",
       "      <td>92448000</td>\n",
       "    </tr>\n",
       "  </tbody>\n",
       "</table>\n",
       "</div>"
      ],
      "text/plain": [
       "         Date  Adj Close      Close       High       Low       Open    Volume\n",
       "0  2014-01-02  10.006667  10.006667  10.165333  9.770000   9.986667  92826000\n",
       "1  2014-01-03   9.970667   9.970667  10.146000  9.906667  10.000000  70425000\n",
       "2  2014-01-06   9.800000   9.800000  10.026667  9.682667  10.000000  80416500\n",
       "3  2014-01-07   9.957333   9.957333  10.026667  9.683333   9.841333  75511500\n",
       "4  2014-01-08  10.085333  10.085333  10.246667  9.917333   9.923333  92448000"
      ]
     },
     "execution_count": 9,
     "metadata": {},
     "output_type": "execute_result"
    }
   ],
   "source": [
    "data_df[DATE_COLUMN_NAME] = pd.to_datetime(data_df[DATE_COLUMN_NAME]).dt.date\n",
    "data_df.head()"
   ]
  },
  {
   "cell_type": "code",
   "execution_count": 10,
   "metadata": {},
   "outputs": [],
   "source": [
    "save_df_in_path(data_df, data_csv_file_path)"
   ]
  },
  {
   "cell_type": "markdown",
   "metadata": {},
   "source": [
    "## News Processing"
   ]
  },
  {
   "cell_type": "markdown",
   "metadata": {},
   "source": [
    "### Pip Install Commands"
   ]
  },
  {
   "cell_type": "code",
   "execution_count": 11,
   "metadata": {
    "ExecuteTime": {
     "end_time": "2024-05-20T22:47:04.005471Z",
     "start_time": "2024-05-20T22:46:56.064886Z"
    }
   },
   "outputs": [
    {
     "name": "stdout",
     "output_type": "stream",
     "text": [
      "Defaulting to user installation because normal site-packages is not writeable\n",
      "Requirement already satisfied: demoji in /home/shartil/.local/lib/python3.10/site-packages (1.1.0)\n",
      "Note: you may need to restart the kernel to use updated packages.\n",
      "Defaulting to user installation because normal site-packages is not writeable\n",
      "Requirement already satisfied: contractions in /home/shartil/.local/lib/python3.10/site-packages (0.1.73)\n",
      "Requirement already satisfied: textsearch>=0.0.21 in /home/shartil/.local/lib/python3.10/site-packages (from contractions) (0.0.24)\n",
      "Requirement already satisfied: anyascii in /home/shartil/.local/lib/python3.10/site-packages (from textsearch>=0.0.21->contractions) (0.3.2)\n",
      "Requirement already satisfied: pyahocorasick in /home/shartil/.local/lib/python3.10/site-packages (from textsearch>=0.0.21->contractions) (2.1.0)\n",
      "Note: you may need to restart the kernel to use updated packages.\n"
     ]
    }
   ],
   "source": [
    "%pip install demoji\n",
    "%pip install contractions"
   ]
  },
  {
   "cell_type": "markdown",
   "metadata": {},
   "source": [
    "### Libraries"
   ]
  },
  {
   "cell_type": "code",
   "execution_count": 12,
   "metadata": {
    "ExecuteTime": {
     "end_time": "2024-05-20T22:47:12.665422Z",
     "start_time": "2024-05-20T22:47:04.008726Z"
    }
   },
   "outputs": [],
   "source": [
    "import demoji\n",
    "import contractions"
   ]
  },
  {
   "cell_type": "markdown",
   "metadata": {},
   "source": [
    "### Const Values"
   ]
  },
  {
   "cell_type": "code",
   "execution_count": 13,
   "metadata": {
    "ExecuteTime": {
     "end_time": "2024-05-20T22:47:12.676453Z",
     "start_time": "2024-05-20T22:47:12.669107Z"
    }
   },
   "outputs": [],
   "source": [
    "TIME_COLUMN_NAME = \"Time\"\n",
    "NEWS_COLUMN_NAME = \"Tweet\"\n",
    "LEFTOVER_COLUMN_NAME = \"Leftover\"\n",
    "\n",
    "NEWS_COLUMNS_LIST = [\n",
    "    DATE_COLUMN_NAME,\n",
    "    NEWS_COLUMN_NAME,\n",
    "    LEFTOVER_COLUMN_NAME\n",
    "]\n",
    "\n",
    "RAW_AMPERSAND_VALUE = \"&amp\""
   ]
  },
  {
   "cell_type": "markdown",
   "metadata": {},
   "source": [
    "### Methods"
   ]
  },
  {
   "cell_type": "code",
   "execution_count": 14,
   "metadata": {},
   "outputs": [],
   "source": [
    "def get_date_data(time_stamp):\n",
    "    # get date data by space split\n",
    "    date = time_stamp.split(\" \")[0]\n",
    "    return date"
   ]
  },
  {
   "cell_type": "code",
   "execution_count": 15,
   "metadata": {},
   "outputs": [],
   "source": [
    "def get_time_data(time_stamp):\n",
    "    # get date data by space and plus split\n",
    "    time_stamp = time_stamp.split(\" \")[1]\n",
    "    time = time_stamp.split(\"+\")[0]\n",
    "    return time"
   ]
  },
  {
   "cell_type": "code",
   "execution_count": 16,
   "metadata": {},
   "outputs": [],
   "source": [
    "def replace_raw_ampersand_value(text):\n",
    "    # replace &amp with &\n",
    "    text = text.replace(RAW_AMPERSAND_VALUE, \"&\")\n",
    "\n",
    "    # replace &; with &\n",
    "    text = text.replace(\"&;\", \"&\")\n",
    "\n",
    "    return text"
   ]
  },
  {
   "cell_type": "code",
   "execution_count": 17,
   "metadata": {},
   "outputs": [],
   "source": [
    "def merge_news_leftover(row):\n",
    "    news_separator = \"\"\n",
    "    current_news_data = row[NEWS_COLUMN_NAME]\n",
    "    amp_flag = RAW_AMPERSAND_VALUE in current_news_data\n",
    "\n",
    "    if pd.notna(row[LEFTOVER_COLUMN_NAME]):\n",
    "        if amp_flag:\n",
    "            current_news_data = replace_raw_ampersand_value(\n",
    "                current_news_data)\n",
    "            \n",
    "            # concat news data together without space\n",
    "            news_separator = \"\"\n",
    "\n",
    "        # concat news and leftover data together\n",
    "        leftover_data = row[LEFTOVER_COLUMN_NAME]\n",
    "        current_news_data += f\"{news_separator}{leftover_data}\"\n",
    "    \n",
    "    return current_news_data"
   ]
  },
  {
   "cell_type": "code",
   "execution_count": 18,
   "metadata": {},
   "outputs": [],
   "source": [
    "def process_news_data(news_data):\n",
    "    # delete any new lines and use only the first main title\n",
    "    news_data = news_data.split(\"\\n\")[0]\n",
    "\n",
    "    # delete any links for news data\n",
    "    news_data = news_data.split(\"http\")[0]\n",
    "\n",
    "    # delete any emoji characters\n",
    "    news_data = demoji.replace(news_data, repl=\"\")\n",
    "    \n",
    "    news_data = replace_raw_ampersand_value(news_data)\n",
    "    \n",
    "    # expend contractions in news data\n",
    "    news_data = contractions.fix(news_data, slang=False)\n",
    "    \n",
    "    # delete any spaces at the start or end of the news data\n",
    "    news_data = news_data.strip()\n",
    "\n",
    "    return news_data"
   ]
  },
  {
   "cell_type": "markdown",
   "metadata": {
    "collapsed": false
   },
   "source": [
    "### Code"
   ]
  },
  {
   "cell_type": "markdown",
   "metadata": {},
   "source": [
    "Loading news dataframe and deleting any columns that are not Date or news data"
   ]
  },
  {
   "cell_type": "code",
   "execution_count": 19,
   "metadata": {},
   "outputs": [],
   "source": [
    "news_df = pd.read_csv(\"../Data/tweets.csv\")"
   ]
  },
  {
   "cell_type": "code",
   "execution_count": 20,
   "metadata": {},
   "outputs": [],
   "source": [
    "for current_column in news_df.columns:\n",
    "    if current_column not in NEWS_COLUMNS_LIST:\n",
    "        news_df = news_df.drop(current_column, axis=1)"
   ]
  },
  {
   "cell_type": "markdown",
   "metadata": {},
   "source": [
    "Splitting Date data to separate Date and Time columns"
   ]
  },
  {
   "cell_type": "code",
   "execution_count": 21,
   "metadata": {},
   "outputs": [],
   "source": [
    "# adding a new column for the time\n",
    "news_df[TIME_COLUMN_NAME] = news_df[DATE_COLUMN_NAME].apply(\n",
    "    get_time_data)\n",
    "\n",
    "# amend existing date column\n",
    "news_df[DATE_COLUMN_NAME] = news_df[DATE_COLUMN_NAME].apply(\n",
    "    get_date_data)"
   ]
  },
  {
   "cell_type": "markdown",
   "metadata": {},
   "source": [
    "Processing the news data"
   ]
  },
  {
   "cell_type": "code",
   "execution_count": 22,
   "metadata": {},
   "outputs": [],
   "source": [
    "news_df[NEWS_COLUMN_NAME] = news_df[NEWS_COLUMN_NAME].apply(\n",
    "    process_news_data)"
   ]
  },
  {
   "cell_type": "markdown",
   "metadata": {},
   "source": [
    "Concatenating misaligned news data with the main news column"
   ]
  },
  {
   "cell_type": "code",
   "execution_count": 23,
   "metadata": {},
   "outputs": [],
   "source": [
    "news_df[NEWS_COLUMN_NAME] = news_df.apply(\n",
    "    merge_news_leftover, \n",
    "    axis=1)\n",
    "\n",
    "news_df = news_df.drop(LEFTOVER_COLUMN_NAME, axis=1)"
   ]
  },
  {
   "cell_type": "code",
   "execution_count": 24,
   "metadata": {},
   "outputs": [],
   "source": [
    "news_df[NEWS_COLUMN_NAME] = news_df[NEWS_COLUMN_NAME].apply(\n",
    "    process_news_data)"
   ]
  },
  {
   "cell_type": "code",
   "execution_count": 25,
   "metadata": {},
   "outputs": [
    {
     "data": {
      "text/html": [
       "<div>\n",
       "<style scoped>\n",
       "    .dataframe tbody tr th:only-of-type {\n",
       "        vertical-align: middle;\n",
       "    }\n",
       "\n",
       "    .dataframe tbody tr th {\n",
       "        vertical-align: top;\n",
       "    }\n",
       "\n",
       "    .dataframe thead th {\n",
       "        text-align: right;\n",
       "    }\n",
       "</style>\n",
       "<table border=\"1\" class=\"dataframe\">\n",
       "  <thead>\n",
       "    <tr style=\"text-align: right;\">\n",
       "      <th></th>\n",
       "      <th>Date</th>\n",
       "      <th>Tweet</th>\n",
       "      <th>Time</th>\n",
       "    </tr>\n",
       "  </thead>\n",
       "  <tbody>\n",
       "    <tr>\n",
       "      <th>0</th>\n",
       "      <td>2023-04-10</td>\n",
       "      <td>Tesla to open a new Megafactory in Shanghai, C...</td>\n",
       "      <td>01:00:00</td>\n",
       "    </tr>\n",
       "    <tr>\n",
       "      <th>1</th>\n",
       "      <td>2023-04-10</td>\n",
       "      <td>#5things: China holds military drills around T...</td>\n",
       "      <td>00:06:05</td>\n",
       "    </tr>\n",
       "    <tr>\n",
       "      <th>2</th>\n",
       "      <td>2023-04-09</td>\n",
       "      <td>WATCH: Tesla Chief Executive Elon Musk is maki...</td>\n",
       "      <td>22:10:00</td>\n",
       "    </tr>\n",
       "    <tr>\n",
       "      <th>3</th>\n",
       "      <td>2023-04-09</td>\n",
       "      <td>Tesla’s Model S and X are starting to show the...</td>\n",
       "      <td>21:41:02</td>\n",
       "    </tr>\n",
       "    <tr>\n",
       "      <th>4</th>\n",
       "      <td>2023-04-09</td>\n",
       "      <td>How the market’s biggest companies, from Apple...</td>\n",
       "      <td>20:00:00</td>\n",
       "    </tr>\n",
       "  </tbody>\n",
       "</table>\n",
       "</div>"
      ],
      "text/plain": [
       "         Date                                              Tweet      Time\n",
       "0  2023-04-10  Tesla to open a new Megafactory in Shanghai, C...  01:00:00\n",
       "1  2023-04-10  #5things: China holds military drills around T...  00:06:05\n",
       "2  2023-04-09  WATCH: Tesla Chief Executive Elon Musk is maki...  22:10:00\n",
       "3  2023-04-09  Tesla’s Model S and X are starting to show the...  21:41:02\n",
       "4  2023-04-09  How the market’s biggest companies, from Apple...  20:00:00"
      ]
     },
     "execution_count": 25,
     "metadata": {},
     "output_type": "execute_result"
    }
   ],
   "source": [
    "news_df.head()"
   ]
  },
  {
   "cell_type": "markdown",
   "metadata": {},
   "source": [
    "Saving processed dataframe"
   ]
  },
  {
   "cell_type": "code",
   "execution_count": 26,
   "metadata": {},
   "outputs": [],
   "source": [
    "news_df.to_csv(\"../Data/processed_tweets.csv\")"
   ]
  },
  {
   "cell_type": "markdown",
   "metadata": {},
   "source": [
    "## Financial Sentiment Extraction"
   ]
  },
  {
   "cell_type": "markdown",
   "metadata": {},
   "source": [
    "### Pip Install Commands"
   ]
  },
  {
   "cell_type": "code",
   "execution_count": 27,
   "metadata": {},
   "outputs": [
    {
     "name": "stdout",
     "output_type": "stream",
     "text": [
      "Defaulting to user installation because normal site-packages is not writeable\n",
      "Requirement already satisfied: torch in /home/shartil/.local/lib/python3.10/site-packages (2.3.1+cu121)\n",
      "Requirement already satisfied: nvidia-cublas-cu12==12.1.3.1 in /home/shartil/.local/lib/python3.10/site-packages (from torch) (12.1.3.1)\n",
      "Requirement already satisfied: nvidia-nccl-cu12==2.20.5 in /home/shartil/.local/lib/python3.10/site-packages (from torch) (2.20.5)\n",
      "Requirement already satisfied: nvidia-cufft-cu12==11.0.2.54 in /home/shartil/.local/lib/python3.10/site-packages (from torch) (11.0.2.54)\n",
      "Requirement already satisfied: nvidia-curand-cu12==10.3.2.106 in /home/shartil/.local/lib/python3.10/site-packages (from torch) (10.3.2.106)\n",
      "Requirement already satisfied: nvidia-cudnn-cu12==8.9.2.26 in /home/shartil/.local/lib/python3.10/site-packages (from torch) (8.9.2.26)\n",
      "Requirement already satisfied: nvidia-cusparse-cu12==12.1.0.106 in /home/shartil/.local/lib/python3.10/site-packages (from torch) (12.1.0.106)\n",
      "Requirement already satisfied: nvidia-nvtx-cu12==12.1.105 in /home/shartil/.local/lib/python3.10/site-packages (from torch) (12.1.105)\n",
      "Requirement already satisfied: jinja2 in /home/shartil/.local/lib/python3.10/site-packages (from torch) (3.1.3)\n",
      "Requirement already satisfied: nvidia-cusolver-cu12==11.4.5.107 in /home/shartil/.local/lib/python3.10/site-packages (from torch) (11.4.5.107)\n",
      "Requirement already satisfied: fsspec in /home/shartil/.local/lib/python3.10/site-packages (from torch) (2024.2.0)\n",
      "Requirement already satisfied: sympy in /home/shartil/.local/lib/python3.10/site-packages (from torch) (1.12)\n",
      "Requirement already satisfied: triton==2.3.1 in /home/shartil/.local/lib/python3.10/site-packages (from torch) (2.3.1)\n",
      "Requirement already satisfied: networkx in /home/shartil/.local/lib/python3.10/site-packages (from torch) (3.2.1)\n",
      "Requirement already satisfied: nvidia-cuda-runtime-cu12==12.1.105 in /home/shartil/.local/lib/python3.10/site-packages (from torch) (12.1.105)\n",
      "Requirement already satisfied: nvidia-cuda-nvrtc-cu12==12.1.105 in /home/shartil/.local/lib/python3.10/site-packages (from torch) (12.1.105)\n",
      "Requirement already satisfied: typing-extensions>=4.8.0 in /home/shartil/.local/lib/python3.10/site-packages (from torch) (4.12.0)\n",
      "Requirement already satisfied: nvidia-cuda-cupti-cu12==12.1.105 in /home/shartil/.local/lib/python3.10/site-packages (from torch) (12.1.105)\n",
      "Requirement already satisfied: filelock in /home/shartil/.local/lib/python3.10/site-packages (from torch) (3.13.1)\n",
      "Requirement already satisfied: nvidia-nvjitlink-cu12 in /home/shartil/.local/lib/python3.10/site-packages (from nvidia-cusolver-cu12==11.4.5.107->torch) (12.1.105)\n",
      "Requirement already satisfied: MarkupSafe>=2.0 in /home/shartil/.local/lib/python3.10/site-packages (from jinja2->torch) (2.1.5)\n",
      "Requirement already satisfied: mpmath>=0.19 in /home/shartil/.local/lib/python3.10/site-packages (from sympy->torch) (1.3.0)\n",
      "Note: you may need to restart the kernel to use updated packages.\n",
      "Defaulting to user installation because normal site-packages is not writeable\n",
      "Requirement already satisfied: transformers in /home/shartil/.local/lib/python3.10/site-packages (4.41.2)\n",
      "Requirement already satisfied: numpy>=1.17 in /home/shartil/.local/lib/python3.10/site-packages (from transformers) (1.26.4)\n",
      "Requirement already satisfied: huggingface-hub<1.0,>=0.23.0 in /home/shartil/.local/lib/python3.10/site-packages (from transformers) (0.23.4)\n",
      "Requirement already satisfied: filelock in /home/shartil/.local/lib/python3.10/site-packages (from transformers) (3.13.1)\n",
      "Requirement already satisfied: safetensors>=0.4.1 in /home/shartil/.local/lib/python3.10/site-packages (from transformers) (0.4.3)\n",
      "Requirement already satisfied: pyyaml>=5.1 in /usr/lib/python3/dist-packages (from transformers) (5.4.1)\n",
      "Requirement already satisfied: tqdm>=4.27 in /home/shartil/.local/lib/python3.10/site-packages (from transformers) (4.66.4)\n",
      "Requirement already satisfied: tokenizers<0.20,>=0.19 in /home/shartil/.local/lib/python3.10/site-packages (from transformers) (0.19.1)\n",
      "Requirement already satisfied: regex!=2019.12.17 in /home/shartil/.local/lib/python3.10/site-packages (from transformers) (2024.5.15)\n",
      "Requirement already satisfied: requests in /home/shartil/.local/lib/python3.10/site-packages (from transformers) (2.32.3)\n",
      "Requirement already satisfied: packaging>=20.0 in /home/shartil/.local/lib/python3.10/site-packages (from transformers) (24.0)\n",
      "Requirement already satisfied: fsspec>=2023.5.0 in /home/shartil/.local/lib/python3.10/site-packages (from huggingface-hub<1.0,>=0.23.0->transformers) (2024.2.0)\n",
      "Requirement already satisfied: typing-extensions>=3.7.4.3 in /home/shartil/.local/lib/python3.10/site-packages (from huggingface-hub<1.0,>=0.23.0->transformers) (4.12.0)\n",
      "Requirement already satisfied: idna<4,>=2.5 in /usr/lib/python3/dist-packages (from requests->transformers) (3.3)\n",
      "Requirement already satisfied: certifi>=2017.4.17 in /usr/lib/python3/dist-packages (from requests->transformers) (2020.6.20)\n",
      "Requirement already satisfied: charset-normalizer<4,>=2 in /home/shartil/.local/lib/python3.10/site-packages (from requests->transformers) (3.4.0)\n",
      "Requirement already satisfied: urllib3<3,>=1.21.1 in /usr/lib/python3/dist-packages (from requests->transformers) (1.26.5)\n",
      "Note: you may need to restart the kernel to use updated packages.\n"
     ]
    }
   ],
   "source": [
    "%pip install torch\n",
    "%pip install transformers"
   ]
  },
  {
   "cell_type": "markdown",
   "metadata": {},
   "source": [
    "### Libraries"
   ]
  },
  {
   "cell_type": "code",
   "execution_count": 28,
   "metadata": {},
   "outputs": [
    {
     "name": "stderr",
     "output_type": "stream",
     "text": [
      "/home/shartil/.local/lib/python3.10/site-packages/tqdm/auto.py:21: TqdmWarning: IProgress not found. Please update jupyter and ipywidgets. See https://ipywidgets.readthedocs.io/en/stable/user_install.html\n",
      "  from .autonotebook import tqdm as notebook_tqdm\n"
     ]
    }
   ],
   "source": [
    "import torch\n",
    "from enum import Enum\n",
    "from torch.nn.functional import softmax\n",
    "from transformers import BertTokenizer, BertForSequenceClassification"
   ]
  },
  {
   "cell_type": "markdown",
   "metadata": {},
   "source": [
    "### Const Values"
   ]
  },
  {
   "cell_type": "code",
   "execution_count": 29,
   "metadata": {},
   "outputs": [],
   "source": [
    "SENTIMENT_COLUMN_NAME = \"Sentiment\"\n",
    "\n",
    "class Sentiment(Enum):\n",
    "    POSITIVE = 0\n",
    "    NEGATIVE = 1\n",
    "    NEUTRAL  = 2\n",
    "\n",
    "TOKENIZER = BertTokenizer.from_pretrained(\n",
    "    'ProsusAI/finbert')\n",
    "\n",
    "MODEL = BertForSequenceClassification.from_pretrained(\n",
    "    'ProsusAI/finbert')"
   ]
  },
  {
   "cell_type": "markdown",
   "metadata": {},
   "source": [
    "### Methods"
   ]
  },
  {
   "cell_type": "code",
   "execution_count": 30,
   "metadata": {},
   "outputs": [],
   "source": [
    "def get_news_from_date(news_df, date):\n",
    "    return news_df[news_df[DATE_COLUMN_NAME].astype(str) == date]"
   ]
  },
  {
   "cell_type": "code",
   "execution_count": 31,
   "metadata": {},
   "outputs": [],
   "source": [
    "def get_sentiment_probabilities(news_data):\n",
    "    # tokenize input\n",
    "    inputs = TOKENIZER(news_data, \n",
    "                       return_tensors='pt', \n",
    "                       truncation=True, \n",
    "                       padding=True)\n",
    "\n",
    "    # perform prediction\n",
    "    with torch.no_grad():\n",
    "        outputs = MODEL(**inputs)\n",
    "\n",
    "    # get logits and apply softmax to get probabilities\n",
    "    logits = outputs.logits\n",
    "    probabilities = softmax(logits, dim=1)\n",
    "\n",
    "    # convert pytorch tensor to numpy array\n",
    "    return probabilities.numpy()[0]"
   ]
  },
  {
   "cell_type": "code",
   "execution_count": 32,
   "metadata": {},
   "outputs": [],
   "source": [
    "def get_sentiment_score(date):\n",
    "    sentiment_category = 0\n",
    "    psitive_sentiment_avg = 0\n",
    "    negative_sentiment_avg = 0\n",
    "\n",
    "    # get news from given date\n",
    "    date_news = get_news_from_date(news_df, date)\n",
    "    amount_of_news = len(date_news)\n",
    "\n",
    "    # in case no news were published on given date, return 0\n",
    "    if amount_of_news == 0:\n",
    "        return sentiment_category\n",
    "\n",
    "    for i in range(amount_of_news):\n",
    "        current_news = date_news[NEWS_COLUMN_NAME].iloc[i]\n",
    "        sentiment_probabilities = get_sentiment_probabilities(\n",
    "            current_news)\n",
    "        \n",
    "        # sum positive probability\n",
    "        psitive_sentiment_avg += sentiment_probabilities[\n",
    "            Sentiment.POSITIVE.value]\n",
    "\n",
    "        # sum negative probability\n",
    "        negative_sentiment_avg += sentiment_probabilities[\n",
    "            Sentiment.NEGATIVE.value]\n",
    "\n",
    "    # calculate average of positive and negative probabilities sums  \n",
    "    psitive_sentiment_avg /= amount_of_news\n",
    "    negative_sentiment_avg /= amount_of_news\n",
    "    \n",
    "    # compare average values and assign sentiment category\n",
    "    if psitive_sentiment_avg > negative_sentiment_avg:\n",
    "        sentiment_category = 1\n",
    "    else:\n",
    "        sentiment_category = -1\n",
    "    \n",
    "    return sentiment_category"
   ]
  },
  {
   "cell_type": "markdown",
   "metadata": {},
   "source": [
    "### Code"
   ]
  },
  {
   "cell_type": "markdown",
   "metadata": {},
   "source": [
    "Loading TESLA stock data frame"
   ]
  },
  {
   "cell_type": "code",
   "execution_count": 33,
   "metadata": {},
   "outputs": [
    {
     "data": {
      "text/html": [
       "<div>\n",
       "<style scoped>\n",
       "    .dataframe tbody tr th:only-of-type {\n",
       "        vertical-align: middle;\n",
       "    }\n",
       "\n",
       "    .dataframe tbody tr th {\n",
       "        vertical-align: top;\n",
       "    }\n",
       "\n",
       "    .dataframe thead th {\n",
       "        text-align: right;\n",
       "    }\n",
       "</style>\n",
       "<table border=\"1\" class=\"dataframe\">\n",
       "  <thead>\n",
       "    <tr style=\"text-align: right;\">\n",
       "      <th></th>\n",
       "      <th>Date</th>\n",
       "      <th>Adj Close</th>\n",
       "      <th>Close</th>\n",
       "      <th>High</th>\n",
       "      <th>Low</th>\n",
       "      <th>Open</th>\n",
       "      <th>Volume</th>\n",
       "    </tr>\n",
       "  </thead>\n",
       "  <tbody>\n",
       "    <tr>\n",
       "      <th>0</th>\n",
       "      <td>2014-01-02</td>\n",
       "      <td>10.006667</td>\n",
       "      <td>10.006667</td>\n",
       "      <td>10.165333</td>\n",
       "      <td>9.770000</td>\n",
       "      <td>9.986667</td>\n",
       "      <td>92826000</td>\n",
       "    </tr>\n",
       "    <tr>\n",
       "      <th>1</th>\n",
       "      <td>2014-01-03</td>\n",
       "      <td>9.970667</td>\n",
       "      <td>9.970667</td>\n",
       "      <td>10.146000</td>\n",
       "      <td>9.906667</td>\n",
       "      <td>10.000000</td>\n",
       "      <td>70425000</td>\n",
       "    </tr>\n",
       "    <tr>\n",
       "      <th>2</th>\n",
       "      <td>2014-01-06</td>\n",
       "      <td>9.800000</td>\n",
       "      <td>9.800000</td>\n",
       "      <td>10.026667</td>\n",
       "      <td>9.682667</td>\n",
       "      <td>10.000000</td>\n",
       "      <td>80416500</td>\n",
       "    </tr>\n",
       "    <tr>\n",
       "      <th>3</th>\n",
       "      <td>2014-01-07</td>\n",
       "      <td>9.957333</td>\n",
       "      <td>9.957333</td>\n",
       "      <td>10.026667</td>\n",
       "      <td>9.683333</td>\n",
       "      <td>9.841333</td>\n",
       "      <td>75511500</td>\n",
       "    </tr>\n",
       "    <tr>\n",
       "      <th>4</th>\n",
       "      <td>2014-01-08</td>\n",
       "      <td>10.085333</td>\n",
       "      <td>10.085333</td>\n",
       "      <td>10.246667</td>\n",
       "      <td>9.917333</td>\n",
       "      <td>9.923333</td>\n",
       "      <td>92448000</td>\n",
       "    </tr>\n",
       "  </tbody>\n",
       "</table>\n",
       "</div>"
      ],
      "text/plain": [
       "         Date  Adj Close      Close       High       Low       Open    Volume\n",
       "0  2014-01-02  10.006667  10.006667  10.165333  9.770000   9.986667  92826000\n",
       "1  2014-01-03   9.970667   9.970667  10.146000  9.906667  10.000000  70425000\n",
       "2  2014-01-06   9.800000   9.800000  10.026667  9.682667  10.000000  80416500\n",
       "3  2014-01-07   9.957333   9.957333  10.026667  9.683333   9.841333  75511500\n",
       "4  2014-01-08  10.085333  10.085333  10.246667  9.917333   9.923333  92448000"
      ]
     },
     "execution_count": 33,
     "metadata": {},
     "output_type": "execute_result"
    }
   ],
   "source": [
    "tesla_stock_df = pd.read_csv(data_csv_file_path, index_col=0)\n",
    "tesla_stock_df.head()"
   ]
  },
  {
   "cell_type": "markdown",
   "metadata": {},
   "source": [
    "Getting sentiment score for each trading day in TESLA stock data frame"
   ]
  },
  {
   "cell_type": "code",
   "execution_count": 34,
   "metadata": {},
   "outputs": [
    {
     "data": {
      "text/html": [
       "<div>\n",
       "<style scoped>\n",
       "    .dataframe tbody tr th:only-of-type {\n",
       "        vertical-align: middle;\n",
       "    }\n",
       "\n",
       "    .dataframe tbody tr th {\n",
       "        vertical-align: top;\n",
       "    }\n",
       "\n",
       "    .dataframe thead th {\n",
       "        text-align: right;\n",
       "    }\n",
       "</style>\n",
       "<table border=\"1\" class=\"dataframe\">\n",
       "  <thead>\n",
       "    <tr style=\"text-align: right;\">\n",
       "      <th></th>\n",
       "      <th>Date</th>\n",
       "      <th>Adj Close</th>\n",
       "      <th>Close</th>\n",
       "      <th>High</th>\n",
       "      <th>Low</th>\n",
       "      <th>Open</th>\n",
       "      <th>Volume</th>\n",
       "      <th>Sentiment</th>\n",
       "    </tr>\n",
       "  </thead>\n",
       "  <tbody>\n",
       "    <tr>\n",
       "      <th>0</th>\n",
       "      <td>2014-01-02</td>\n",
       "      <td>10.006667</td>\n",
       "      <td>10.006667</td>\n",
       "      <td>10.165333</td>\n",
       "      <td>9.770000</td>\n",
       "      <td>9.986667</td>\n",
       "      <td>92826000</td>\n",
       "      <td>0</td>\n",
       "    </tr>\n",
       "    <tr>\n",
       "      <th>1</th>\n",
       "      <td>2014-01-03</td>\n",
       "      <td>9.970667</td>\n",
       "      <td>9.970667</td>\n",
       "      <td>10.146000</td>\n",
       "      <td>9.906667</td>\n",
       "      <td>10.000000</td>\n",
       "      <td>70425000</td>\n",
       "      <td>0</td>\n",
       "    </tr>\n",
       "    <tr>\n",
       "      <th>2</th>\n",
       "      <td>2014-01-06</td>\n",
       "      <td>9.800000</td>\n",
       "      <td>9.800000</td>\n",
       "      <td>10.026667</td>\n",
       "      <td>9.682667</td>\n",
       "      <td>10.000000</td>\n",
       "      <td>80416500</td>\n",
       "      <td>0</td>\n",
       "    </tr>\n",
       "    <tr>\n",
       "      <th>3</th>\n",
       "      <td>2014-01-07</td>\n",
       "      <td>9.957333</td>\n",
       "      <td>9.957333</td>\n",
       "      <td>10.026667</td>\n",
       "      <td>9.683333</td>\n",
       "      <td>9.841333</td>\n",
       "      <td>75511500</td>\n",
       "      <td>0</td>\n",
       "    </tr>\n",
       "    <tr>\n",
       "      <th>4</th>\n",
       "      <td>2014-01-08</td>\n",
       "      <td>10.085333</td>\n",
       "      <td>10.085333</td>\n",
       "      <td>10.246667</td>\n",
       "      <td>9.917333</td>\n",
       "      <td>9.923333</td>\n",
       "      <td>92448000</td>\n",
       "      <td>0</td>\n",
       "    </tr>\n",
       "  </tbody>\n",
       "</table>\n",
       "</div>"
      ],
      "text/plain": [
       "         Date  Adj Close      Close       High       Low       Open    Volume  \\\n",
       "0  2014-01-02  10.006667  10.006667  10.165333  9.770000   9.986667  92826000   \n",
       "1  2014-01-03   9.970667   9.970667  10.146000  9.906667  10.000000  70425000   \n",
       "2  2014-01-06   9.800000   9.800000  10.026667  9.682667  10.000000  80416500   \n",
       "3  2014-01-07   9.957333   9.957333  10.026667  9.683333   9.841333  75511500   \n",
       "4  2014-01-08  10.085333  10.085333  10.246667  9.917333   9.923333  92448000   \n",
       "\n",
       "   Sentiment  \n",
       "0          0  \n",
       "1          0  \n",
       "2          0  \n",
       "3          0  \n",
       "4          0  "
      ]
     },
     "execution_count": 34,
     "metadata": {},
     "output_type": "execute_result"
    }
   ],
   "source": [
    "tesla_stock_df[SENTIMENT_COLUMN_NAME] = tesla_stock_df[\n",
    "    DATE_COLUMN_NAME].apply(get_sentiment_score)\n",
    "\n",
    "tesla_stock_df.head()"
   ]
  },
  {
   "cell_type": "markdown",
   "metadata": {},
   "source": [
    "Saving the processed TESLA stock data frame"
   ]
  },
  {
   "cell_type": "code",
   "execution_count": 35,
   "metadata": {},
   "outputs": [],
   "source": [
    "save_df_in_path(tesla_stock_df, f\"../Data/processed_PAPER_{ticker}_data.csv\")"
   ]
  },
  {
   "cell_type": "code",
   "execution_count": 38,
   "metadata": {},
   "outputs": [
    {
     "data": {
      "image/png": "[encoded data removed]",
      "text/plain": [
       "<Figure size 1000x600 with 1 Axes>"
      ]
     },
     "metadata": {},
     "output_type": "display_data"
    }
   ],
   "source": [
    "#test code to varify that we got the same plot as fig 1. in paper\n",
    "import matplotlib.pyplot as plt\n",
    "\n",
    "# Replace 'column_name' with the actual column you want to plot\n",
    "tesla_stock_df[\"Close\"].plot(kind='line', figsize=(10, 6))\n",
    "\n",
    "# Add labels and title\n",
    "plt.xlabel('Index')\n",
    "plt.ylabel('Close Price')\n",
    "plt.title('Plot of Close price')\n",
    "plt.grid(True)\n",
    "\n",
    "# Show the plot\n",
    "plt.show()"
   ]
  }
 ],
 "metadata": {
  "kernelspec": {
   "display_name": "Python 3",
   "language": "python",
   "name": "python3"
  },
  "language_info": {
   "codemirror_mode": {
    "name": "ipython",
    "version": 3
   },
   "file_extension": ".py",
   "mimetype": "text/x-python",
   "name": "python",
   "nbconvert_exporter": "python",
   "pygments_lexer": "ipython3",
   "version": "3.10.12"
  },
  "orig_nbformat": 4
 },
 "nbformat": 4,
 "nbformat_minor": 2
}
